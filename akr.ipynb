{
 "cells": [
  {
   "cell_type": "code",
   "execution_count": null,
   "metadata": {},
   "outputs": [],
   "source": [
    "import numpy as np\n",
    "import matplotlib.pyplot as plt\n",
    "from simulation_lib import *"
   ]
  },
  {
   "cell_type": "code",
   "execution_count": null,
   "metadata": {},
   "outputs": [],
   "source": [
    "# plotting\n",
    "def plot_b0_b1(mal, F1, F2, figname):\n",
    "    plt.style.use('seaborn')\n",
    "    plt.figure()\n",
    "    plt.plot(mal, F1, marker='s', markersize=6, linewidth=4, label='D')\n",
    "    plt.plot(mal, F2, marker='s', markersize=6, linewidth=4, linestyle='--', label='D\\'')\n",
    "    plt.xticks(fontsize=20)\n",
    "    plt.yticks(fontsize=20)\n",
    "    plt.xlabel('resources allocated to attacker', fontsize=22)\n",
    "    plt.ylabel('frequency', fontsize=22)\n",
    "    plt.legend(loc='best', fontsize=22)\n",
    "    plt.grid(True)\n",
    "    plt.savefig(figname, bbox_inches=\"tight\")\n",
    "    plt.show()"
   ]
  },
  {
   "cell_type": "code",
   "execution_count": 5,
   "metadata": {},
   "outputs": [],
   "source": [
    "# Parameter default setup\n",
    "x = 20\n",
    "x0 = 0\n",
    "p = 0\n",
    "c = 0\n",
    "lamda = 0\n",
    "V=1\n",
    "\n",
    "noise_type = 'akr'\n",
    "RD = 100000000 # rounds\n",
    "k = 10\n",
    "m = 10  # best strategy\n",
    "S = [1]  # epsilon\n",
    "result = []\n",
    "utility = []\n",
    "delta = 10 ** (-6)\n",
    "for s in S:\n",
    "    eps = s\n",
    "    miu = V - V * np.log(2 * delta) / eps\n",
    "    F = []\n",
    "    F_prime = []\n",
    "    a = []\n",
    "    b = []\n",
    "    uti = []\n",
    "    for rd in range(RD):\n",
    "        f, f_prime = add_noise(x0=x0, k=k, m=m, noise_type=noise_type, x=x, p=p, c=c, lamda=lamda, miu=miu, s=1 / s)\n",
    "        F.append(f)\n",
    "        F_prime.append(f_prime)\n",
    "        ra_f, ra_f_p, u = allocation(f=f, f_prime=f_prime, m=m, k=k)\n",
    "        a.append(ra_f)\n",
    "        b.append(ra_f_p)\n",
    "        uti.append(u)\n",
    "        if rd % 10000000 == 0:\n",
    "            print(\"\\r{0}\".format((float(rd) / RD) * 100))\n",
    "\n",
    "    utility.append(np.mean(uti))\n",
    "    Before_RA_F, Before_RA_F_p = counter_process(F=F, F_prime=F_prime)\n",
    "    After_RA_F, After_RA_F_p = counter_process(F=a, F_prime=b)\n",
    "    plot_b0_b1(range(k+1), After_RA_F, After_RA_F_p, figname='akr.pdf')\n",
    "    r2 = non_inf(np.log(find_max(After_RA_F, After_RA_F_p)))\n",
    "    print(str(noise_type) + \" - Simulation (k = \" + str(k) + \"), after RA:\", max(r2))\n",
    "    result.append(max(r2))\n",
    "    print(\"utility:\", np.mean(uti))\n"
   ]
  }
 ],
 "metadata": {
  "kernelspec": {
   "display_name": "Python 3.11.4 64-bit",
   "language": "python",
   "name": "python3"
  },
  "language_info": {
   "codemirror_mode": {
    "name": "ipython",
    "version": 3
   },
   "file_extension": ".py",
   "mimetype": "text/x-python",
   "name": "python",
   "nbconvert_exporter": "python",
   "pygments_lexer": "ipython3",
   "version": "3.11.4"
  },
  "orig_nbformat": 4,
  "vscode": {
   "interpreter": {
    "hash": "b0fa6594d8f4cbf19f97940f81e996739fb7646882a419484c72d19e05852a7e"
   }
  }
 },
 "nbformat": 4,
 "nbformat_minor": 2
}
